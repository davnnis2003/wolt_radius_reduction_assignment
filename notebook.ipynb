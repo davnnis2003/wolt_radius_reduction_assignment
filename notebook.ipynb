{
 "cells": [
  {
   "cell_type": "markdown",
   "id": "29593d68-667b-4aae-8394-0df37dabf9fd",
   "metadata": {},
   "source": [
    "# Setup Code"
   ]
  },
  {
   "cell_type": "code",
   "execution_count": 1,
   "id": "3d25597f-b712-483a-b3d9-4d0439c59e70",
   "metadata": {},
   "outputs": [],
   "source": [
    "# Importing all packages used\n",
    "import pandas as pd"
   ]
  },
  {
   "cell_type": "markdown",
   "id": "da8d4872-70f6-4778-bb03-21f83040dc6d",
   "metadata": {},
   "source": [
    "## Importing delivery_radius_log"
   ]
  },
  {
   "cell_type": "code",
   "execution_count": 5,
   "id": "60ef486c-ee77-4b03-89fc-a6a72b76c2c0",
   "metadata": {},
   "outputs": [
    {
     "name": "stdout",
     "output_type": "stream",
     "text": [
      "<class 'pandas.core.frame.DataFrame'>\n",
      "RangeIndex: 1316 entries, 0 to 1315\n",
      "Data columns (total 3 columns):\n",
      " #   Column                   Non-Null Count  Dtype \n",
      "---  ------                   --------------  ----- \n",
      " 0   DELIVERY_AREA_ID         1316 non-null   object\n",
      " 1   DELIVERY_RADIUS_METERS   1316 non-null   int64 \n",
      " 2   EVENT_STARTED_TIMESTAMP  1316 non-null   object\n",
      "dtypes: int64(1), object(2)\n",
      "memory usage: 31.0+ KB\n"
     ]
    }
   ],
   "source": [
    "# Importing the CSV file delivery_radius_log as a dataframe first\n",
    "df_delivery_radius_log = pd.read_csv('data/delivery_radius_log.csv')\n",
    "df_delivery_radius_log.info()"
   ]
  },
  {
   "cell_type": "code",
   "execution_count": 6,
   "id": "5a738f36-e501-4cb3-a8c7-3d5c8f1c2107",
   "metadata": {},
   "outputs": [
    {
     "data": {
      "text/html": [
       "<div>\n",
       "<style scoped>\n",
       "    .dataframe tbody tr th:only-of-type {\n",
       "        vertical-align: middle;\n",
       "    }\n",
       "\n",
       "    .dataframe tbody tr th {\n",
       "        vertical-align: top;\n",
       "    }\n",
       "\n",
       "    .dataframe thead th {\n",
       "        text-align: right;\n",
       "    }\n",
       "</style>\n",
       "<table border=\"1\" class=\"dataframe\">\n",
       "  <thead>\n",
       "    <tr style=\"text-align: right;\">\n",
       "      <th></th>\n",
       "      <th>DELIVERY_AREA_ID</th>\n",
       "      <th>DELIVERY_RADIUS_METERS</th>\n",
       "      <th>EVENT_STARTED_TIMESTAMP</th>\n",
       "    </tr>\n",
       "  </thead>\n",
       "  <tbody>\n",
       "    <tr>\n",
       "      <th>0</th>\n",
       "      <td>5db02e5d401d690c836b9ead</td>\n",
       "      <td>3000</td>\n",
       "      <td>2022-06-14T08:26:20.923854Z</td>\n",
       "    </tr>\n",
       "    <tr>\n",
       "      <th>1</th>\n",
       "      <td>5db02e5d401d690c836b9ead</td>\n",
       "      <td>7000</td>\n",
       "      <td>2022-06-14T08:49:01.186365Z</td>\n",
       "    </tr>\n",
       "    <tr>\n",
       "      <th>2</th>\n",
       "      <td>5db02e5d401d690c836b9ead</td>\n",
       "      <td>3000</td>\n",
       "      <td>2022-06-18T07:43:57.662294Z</td>\n",
       "    </tr>\n",
       "    <tr>\n",
       "      <th>3</th>\n",
       "      <td>5db02e5d401d690c836b9ead</td>\n",
       "      <td>7000</td>\n",
       "      <td>2022-06-18T08:00:45.227506Z</td>\n",
       "    </tr>\n",
       "    <tr>\n",
       "      <th>4</th>\n",
       "      <td>5d78a7e552dfabd5251dab7b</td>\n",
       "      <td>4000</td>\n",
       "      <td>2022-06-18T08:05:29.093983Z</td>\n",
       "    </tr>\n",
       "  </tbody>\n",
       "</table>\n",
       "</div>"
      ],
      "text/plain": [
       "           DELIVERY_AREA_ID  DELIVERY_RADIUS_METERS  \\\n",
       "0  5db02e5d401d690c836b9ead                    3000   \n",
       "1  5db02e5d401d690c836b9ead                    7000   \n",
       "2  5db02e5d401d690c836b9ead                    3000   \n",
       "3  5db02e5d401d690c836b9ead                    7000   \n",
       "4  5d78a7e552dfabd5251dab7b                    4000   \n",
       "\n",
       "       EVENT_STARTED_TIMESTAMP  \n",
       "0  2022-06-14T08:26:20.923854Z  \n",
       "1  2022-06-14T08:49:01.186365Z  \n",
       "2  2022-06-18T07:43:57.662294Z  \n",
       "3  2022-06-18T08:00:45.227506Z  \n",
       "4  2022-06-18T08:05:29.093983Z  "
      ]
     },
     "execution_count": 6,
     "metadata": {},
     "output_type": "execute_result"
    }
   ],
   "source": [
    "df_delivery_radius_log.head()"
   ]
  },
  {
   "cell_type": "markdown",
   "id": "7c9a3b81-1e15-4902-9467-0b302f6e9ba5",
   "metadata": {},
   "source": [
    "## Importing purchases "
   ]
  },
  {
   "cell_type": "code",
   "execution_count": 8,
   "id": "d280eef0-22b9-4b71-8d8d-49d4daa700db",
   "metadata": {},
   "outputs": [
    {
     "name": "stdout",
     "output_type": "stream",
     "text": [
      "<class 'pandas.core.frame.DataFrame'>\n",
      "RangeIndex: 177895 entries, 0 to 177894\n",
      "Data columns (total 6 columns):\n",
      " #   Column                                 Non-Null Count   Dtype  \n",
      "---  ------                                 --------------   -----  \n",
      " 0   PURCHASE_ID                            177895 non-null  object \n",
      " 1   TIME_RECEIVED                          177895 non-null  object \n",
      " 2   TIME_DELIVERED                         177895 non-null  object \n",
      " 3   END_AMOUNT_WITH_VAT_EUR                177895 non-null  float64\n",
      " 4   DROPOFF_DISTANCE_STRAIGHT_LINE_METRES  177895 non-null  int64  \n",
      " 5   DELIVERY_AREA_ID                       177895 non-null  object \n",
      "dtypes: float64(1), int64(1), object(4)\n",
      "memory usage: 8.1+ MB\n"
     ]
    }
   ],
   "source": [
    "# Importing the CSV file delivery_radius_log as a dataframe first\n",
    "df_purchases = pd.read_csv('data/purchases.csv')\n",
    "df_purchases.info()"
   ]
  },
  {
   "cell_type": "code",
   "execution_count": 9,
   "id": "4d885f1d-68ab-425b-b66e-17cc983d5ec9",
   "metadata": {},
   "outputs": [
    {
     "data": {
      "text/html": [
       "<div>\n",
       "<style scoped>\n",
       "    .dataframe tbody tr th:only-of-type {\n",
       "        vertical-align: middle;\n",
       "    }\n",
       "\n",
       "    .dataframe tbody tr th {\n",
       "        vertical-align: top;\n",
       "    }\n",
       "\n",
       "    .dataframe thead th {\n",
       "        text-align: right;\n",
       "    }\n",
       "</style>\n",
       "<table border=\"1\" class=\"dataframe\">\n",
       "  <thead>\n",
       "    <tr style=\"text-align: right;\">\n",
       "      <th></th>\n",
       "      <th>PURCHASE_ID</th>\n",
       "      <th>TIME_RECEIVED</th>\n",
       "      <th>TIME_DELIVERED</th>\n",
       "      <th>END_AMOUNT_WITH_VAT_EUR</th>\n",
       "      <th>DROPOFF_DISTANCE_STRAIGHT_LINE_METRES</th>\n",
       "      <th>DELIVERY_AREA_ID</th>\n",
       "    </tr>\n",
       "  </thead>\n",
       "  <tbody>\n",
       "    <tr>\n",
       "      <th>0</th>\n",
       "      <td>5f85beff7762a1539ad6faf1</td>\n",
       "      <td>2022-10-13T14:51:43.048Z</td>\n",
       "      <td>2022-10-13T15:18:35.265Z</td>\n",
       "      <td>17.87</td>\n",
       "      <td>735</td>\n",
       "      <td>5d78a7e552dfabd5251dab7b</td>\n",
       "    </tr>\n",
       "    <tr>\n",
       "      <th>1</th>\n",
       "      <td>5f85c08dddf0c9826389f3cd</td>\n",
       "      <td>2022-10-13T14:58:21.078Z</td>\n",
       "      <td>2022-10-13T15:28:09.194Z</td>\n",
       "      <td>17.75</td>\n",
       "      <td>436</td>\n",
       "      <td>5cc1b60b034adf90cd8f14dd</td>\n",
       "    </tr>\n",
       "    <tr>\n",
       "      <th>2</th>\n",
       "      <td>5f85bc2cf49ddea98955ce5f</td>\n",
       "      <td>2022-10-13T14:39:40.153Z</td>\n",
       "      <td>2022-10-13T15:05:15.058Z</td>\n",
       "      <td>25.80</td>\n",
       "      <td>867</td>\n",
       "      <td>5cc1b60b034adf90cd8f14dd</td>\n",
       "    </tr>\n",
       "    <tr>\n",
       "      <th>3</th>\n",
       "      <td>5f855dbf5a93deaf2be5b872</td>\n",
       "      <td>2022-10-13T07:56:47.003Z</td>\n",
       "      <td>2022-10-13T09:05:14.37Z</td>\n",
       "      <td>15.70</td>\n",
       "      <td>252</td>\n",
       "      <td>5db02e5d401d690c836b9ead</td>\n",
       "    </tr>\n",
       "    <tr>\n",
       "      <th>4</th>\n",
       "      <td>5f85be8a8876393ee141ed82</td>\n",
       "      <td>2022-10-13T14:49:46.693Z</td>\n",
       "      <td>2022-10-13T15:14:31.299Z</td>\n",
       "      <td>18.80</td>\n",
       "      <td>857</td>\n",
       "      <td>5db02e5d401d690c836b9ead</td>\n",
       "    </tr>\n",
       "  </tbody>\n",
       "</table>\n",
       "</div>"
      ],
      "text/plain": [
       "                PURCHASE_ID             TIME_RECEIVED  \\\n",
       "0  5f85beff7762a1539ad6faf1  2022-10-13T14:51:43.048Z   \n",
       "1  5f85c08dddf0c9826389f3cd  2022-10-13T14:58:21.078Z   \n",
       "2  5f85bc2cf49ddea98955ce5f  2022-10-13T14:39:40.153Z   \n",
       "3  5f855dbf5a93deaf2be5b872  2022-10-13T07:56:47.003Z   \n",
       "4  5f85be8a8876393ee141ed82  2022-10-13T14:49:46.693Z   \n",
       "\n",
       "             TIME_DELIVERED  END_AMOUNT_WITH_VAT_EUR  \\\n",
       "0  2022-10-13T15:18:35.265Z                    17.87   \n",
       "1  2022-10-13T15:28:09.194Z                    17.75   \n",
       "2  2022-10-13T15:05:15.058Z                    25.80   \n",
       "3   2022-10-13T09:05:14.37Z                    15.70   \n",
       "4  2022-10-13T15:14:31.299Z                    18.80   \n",
       "\n",
       "   DROPOFF_DISTANCE_STRAIGHT_LINE_METRES          DELIVERY_AREA_ID  \n",
       "0                                    735  5d78a7e552dfabd5251dab7b  \n",
       "1                                    436  5cc1b60b034adf90cd8f14dd  \n",
       "2                                    867  5cc1b60b034adf90cd8f14dd  \n",
       "3                                    252  5db02e5d401d690c836b9ead  \n",
       "4                                    857  5db02e5d401d690c836b9ead  "
      ]
     },
     "execution_count": 9,
     "metadata": {},
     "output_type": "execute_result"
    }
   ],
   "source": [
    "df_purchases.head()"
   ]
  },
  {
   "cell_type": "markdown",
   "id": "d255aac7-5ef7-4585-af89-ceb7f6929a05",
   "metadata": {},
   "source": [
    "# Q1"
   ]
  },
  {
   "cell_type": "code",
   "execution_count": null,
   "id": "633c33a9-a6fc-485d-9df3-a710b9849a75",
   "metadata": {},
   "outputs": [],
   "source": []
  }
 ],
 "metadata": {
  "kernelspec": {
   "display_name": "Python 3 (ipykernel)",
   "language": "python",
   "name": "python3"
  },
  "language_info": {
   "codemirror_mode": {
    "name": "ipython",
    "version": 3
   },
   "file_extension": ".py",
   "mimetype": "text/x-python",
   "name": "python",
   "nbconvert_exporter": "python",
   "pygments_lexer": "ipython3",
   "version": "3.11.5"
  }
 },
 "nbformat": 4,
 "nbformat_minor": 5
}
